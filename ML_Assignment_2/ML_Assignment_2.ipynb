{
  "cells": [
    {
      "cell_type": "code",
      "execution_count": 4,
      "metadata": {
        "trusted": true
      },
      "outputs": [
        {
          "name": "stdout",
          "output_type": "stream",
          "text": [
            "* \n",
            "* * \n",
            "* * * \n",
            "* * * * \n",
            "* * * * * \n",
            "* * * * \n",
            "* * * \n",
            "* * \n",
            "* \n"
          ]
        }
      ],
      "source": [
        "symbol=\"* \" #initializing variable for printing\n",
        "for i in range(1,6):  #printing upper half part\n",
        "    print(symbol*i)   \n",
        "for i in range(4,0,-1):   #printing lower half part\n",
        "    print(symbol*i)"
      ]
    },
    {
      "cell_type": "code",
      "execution_count": 6,
      "metadata": {
        "trusted": true
      },
      "outputs": [
        {
          "name": "stdout",
          "output_type": "stream",
          "text": [
            "20 40 60 80 100 "
          ]
        }
      ],
      "source": [
        "my_list = [10, 20, 30, 40, 50, 60, 70, 80, 90, 100]\n",
        "for i in range(1,len(my_list),2):  #odd index printing\n",
        "    print(my_list[i],end=\" \")"
      ]
    },
    {
      "cell_type": "code",
      "execution_count": 9,
      "metadata": {
        "trusted": true
      },
      "outputs": [
        {
          "name": "stdout",
          "output_type": "stream",
          "text": [
            "[23, 'Python', 23.98]\n",
            "[<class 'int'>, <class 'str'>, <class 'float'>]\n"
          ]
        }
      ],
      "source": [
        "x = [23,'Python', 23.98]\n",
        "print(x)\n",
        "newList=[]  #take new list\n",
        "for i in x:\n",
        "    newList.append(type(i))     #append elements to new list\n",
        "print(newList)\n",
        "    "
      ]
    },
    {
      "cell_type": "code",
      "execution_count": 10,
      "metadata": {
        "trusted": true
      },
      "outputs": [
        {
          "name": "stdout",
          "output_type": "stream",
          "text": [
            "[1, 2, 3, 4, 5]\n"
          ]
        }
      ],
      "source": [
        "Sample=[1,2,3,3,3,3,4,5]\n",
        "unique=[]  #take new list named unique\n",
        "for i in Sample:\n",
        "    if i not in unique:  #check if it previosuly exist in unique\n",
        "        unique.append(i)   #append to unique\n",
        "print(unique)"
      ]
    },
    {
      "cell_type": "code",
      "execution_count": 15,
      "metadata": {
        "trusted": true
      },
      "outputs": [
        {
          "name": "stdout",
          "output_type": "stream",
          "text": [
            "No. of Upper-case characters: 3\n",
            "No. of Lower-case Characters: 12\n"
          ]
        }
      ],
      "source": [
        "str=\"The quick Brow Fox\"\n",
        "upper=0\n",
        "lower=0\n",
        "for i in str:\n",
        "    if i.isupper():   #check if character is upper using isUpper method\n",
        "        upper+=1  #increment if upper \n",
        "    elif i.islower():\n",
        "        lower+=1   #increment if lower\n",
        "print(\"No. of Upper-case characters:\",upper)\n",
        "print(\"No. of Lower-case Characters:\", lower)"
      ]
    },
    {
      "cell_type": "code",
      "execution_count": null,
      "metadata": {},
      "outputs": [],
      "source": []
    }
  ],
  "metadata": {
    "kernelspec": {
      "display_name": "Python 3",
      "language": "python",
      "name": "python3"
    },
    "language_info": {
      "codemirror_mode": {
        "name": "python",
        "version": 3
      },
      "file_extension": ".py",
      "mimetype": "text/x-python",
      "name": "python",
      "nbconvert_exporter": "python",
      "pygments_lexer": "ipython3",
      "version": "3.9.6 (default, Oct 18 2022, 12:41:40) \n[Clang 14.0.0 (clang-1400.0.29.202)]"
    },
    "vscode": {
      "interpreter": {
        "hash": "31f2aee4e71d21fbe5cf8b01ff0e069b9275f58929596ceb00d14d90e3e16cd6"
      }
    }
  },
  "nbformat": 4,
  "nbformat_minor": 4
}
