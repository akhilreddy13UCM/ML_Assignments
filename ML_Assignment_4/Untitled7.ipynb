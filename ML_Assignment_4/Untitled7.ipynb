{
  "metadata": {
    "language_info": {
      "codemirror_mode": {
        "name": "python",
        "version": 3
      },
      "file_extension": ".py",
      "mimetype": "text/x-python",
      "name": "python",
      "nbconvert_exporter": "python",
      "pygments_lexer": "ipython3",
      "version": "3.8"
    },
    "kernelspec": {
      "name": "python",
      "display_name": "Python (Pyodide)",
      "language": "python"
    }
  },
  "nbformat_minor": 4,
  "nbformat": 4,
  "cells": [
    {
      "cell_type": "code",
      "source": "import pandas as pd\n#Read the csv file\ndata = pd.read_csv(\"data.csv\")\ndata.head()",
      "metadata": {
        "trusted": true
      },
      "execution_count": 3,
      "outputs": [
        {
          "execution_count": 3,
          "output_type": "execute_result",
          "data": {
            "text/plain": "   Duration  Pulse  Maxpulse  Calories\n0        60    110       130     409.1\n1        60    117       145     479.0\n2        60    103       135     340.0\n3        45    109       175     282.4\n4        45    117       148     406.0",
            "text/html": "<div>\n<style scoped>\n    .dataframe tbody tr th:only-of-type {\n        vertical-align: middle;\n    }\n\n    .dataframe tbody tr th {\n        vertical-align: top;\n    }\n\n    .dataframe thead th {\n        text-align: right;\n    }\n</style>\n<table border=\"1\" class=\"dataframe\">\n  <thead>\n    <tr style=\"text-align: right;\">\n      <th></th>\n      <th>Duration</th>\n      <th>Pulse</th>\n      <th>Maxpulse</th>\n      <th>Calories</th>\n    </tr>\n  </thead>\n  <tbody>\n    <tr>\n      <th>0</th>\n      <td>60</td>\n      <td>110</td>\n      <td>130</td>\n      <td>409.1</td>\n    </tr>\n    <tr>\n      <th>1</th>\n      <td>60</td>\n      <td>117</td>\n      <td>145</td>\n      <td>479.0</td>\n    </tr>\n    <tr>\n      <th>2</th>\n      <td>60</td>\n      <td>103</td>\n      <td>135</td>\n      <td>340.0</td>\n    </tr>\n    <tr>\n      <th>3</th>\n      <td>45</td>\n      <td>109</td>\n      <td>175</td>\n      <td>282.4</td>\n    </tr>\n    <tr>\n      <th>4</th>\n      <td>45</td>\n      <td>117</td>\n      <td>148</td>\n      <td>406.0</td>\n    </tr>\n  </tbody>\n</table>\n</div>"
          },
          "metadata": {}
        }
      ]
    },
    {
      "cell_type": "code",
      "source": "#shows statastical description of data\ndata.describe()",
      "metadata": {
        "trusted": true
      },
      "execution_count": 48,
      "outputs": [
        {
          "execution_count": 48,
          "output_type": "execute_result",
          "data": {
            "text/plain": "         Duration       Pulse     Calories\ncount  169.000000  169.000000   169.000000\nmean    63.846154  107.461538   375.544379\nstd     42.299949   14.510259   262.411685\nmin     15.000000   80.000000    50.000000\n25%     45.000000  100.000000   253.000000\n50%     60.000000  105.000000   321.000000\n75%     60.000000  111.000000   384.000000\nmax    300.000000  159.000000  1860.000000",
            "text/html": "<div>\n<style scoped>\n    .dataframe tbody tr th:only-of-type {\n        vertical-align: middle;\n    }\n\n    .dataframe tbody tr th {\n        vertical-align: top;\n    }\n\n    .dataframe thead th {\n        text-align: right;\n    }\n</style>\n<table border=\"1\" class=\"dataframe\">\n  <thead>\n    <tr style=\"text-align: right;\">\n      <th></th>\n      <th>Duration</th>\n      <th>Pulse</th>\n      <th>Calories</th>\n    </tr>\n  </thead>\n  <tbody>\n    <tr>\n      <th>count</th>\n      <td>169.000000</td>\n      <td>169.000000</td>\n      <td>169.000000</td>\n    </tr>\n    <tr>\n      <th>mean</th>\n      <td>63.846154</td>\n      <td>107.461538</td>\n      <td>375.544379</td>\n    </tr>\n    <tr>\n      <th>std</th>\n      <td>42.299949</td>\n      <td>14.510259</td>\n      <td>262.411685</td>\n    </tr>\n    <tr>\n      <th>min</th>\n      <td>15.000000</td>\n      <td>80.000000</td>\n      <td>50.000000</td>\n    </tr>\n    <tr>\n      <th>25%</th>\n      <td>45.000000</td>\n      <td>100.000000</td>\n      <td>253.000000</td>\n    </tr>\n    <tr>\n      <th>50%</th>\n      <td>60.000000</td>\n      <td>105.000000</td>\n      <td>321.000000</td>\n    </tr>\n    <tr>\n      <th>75%</th>\n      <td>60.000000</td>\n      <td>111.000000</td>\n      <td>384.000000</td>\n    </tr>\n    <tr>\n      <th>max</th>\n      <td>300.000000</td>\n      <td>159.000000</td>\n      <td>1860.000000</td>\n    </tr>\n  </tbody>\n</table>\n</div>"
          },
          "metadata": {}
        }
      ]
    },
    {
      "cell_type": "code",
      "source": "data.isnull().any()",
      "metadata": {
        "trusted": true
      },
      "execution_count": 5,
      "outputs": [
        {
          "execution_count": 49,
          "output_type": "execute_result",
          "data": {
            "text/plain": "Duration    False\nPulse       False\nCalories    False\ndtype: bool"
          },
          "metadata": {}
        }
      ]
    },
    {
      "cell_type": "code",
      "source": "#Replace the null values with the mean\ndata.fillna(data.mean(), inplace=True)\ndata.isnull().any()",
      "metadata": {
        "trusted": true
      },
      "execution_count": 56,
      "outputs": [
        {
          "execution_count": 56,
          "output_type": "execute_result",
          "data": {
            "text/plain": "Duration    False\nPulse       False\nCalories    False\ndtype: bool"
          },
          "metadata": {}
        }
      ]
    },
    {
      "cell_type": "code",
      "source": "",
      "metadata": {
        "trusted": true
      },
      "execution_count": null,
      "outputs": []
    },
    {
      "cell_type": "code",
      "source": "data.loc[(data['Calories']>500)&(data['Calories']<1000)]\n#Filter the dataframe to select the rows with calories values between 500 and 1000.",
      "metadata": {
        "trusted": true
      },
      "execution_count": 61,
      "outputs": [
        {
          "execution_count": 61,
          "output_type": "execute_result",
          "data": {
            "text/plain": "     Duration  Pulse  Calories\n51         80    123       643\n62        160    109       853\n65        180     90       800\n66        150    105       873\n67        150    107       816\n72         90    100       700\n73        150     97       953\n75         90     98       563\n90        180    101       600\n99         90     93       604\n106       180     90       800",
            "text/html": "<div>\n<style scoped>\n    .dataframe tbody tr th:only-of-type {\n        vertical-align: middle;\n    }\n\n    .dataframe tbody tr th {\n        vertical-align: top;\n    }\n\n    .dataframe thead th {\n        text-align: right;\n    }\n</style>\n<table border=\"1\" class=\"dataframe\">\n  <thead>\n    <tr style=\"text-align: right;\">\n      <th></th>\n      <th>Duration</th>\n      <th>Pulse</th>\n      <th>Calories</th>\n    </tr>\n  </thead>\n  <tbody>\n    <tr>\n      <th>51</th>\n      <td>80</td>\n      <td>123</td>\n      <td>643</td>\n    </tr>\n    <tr>\n      <th>62</th>\n      <td>160</td>\n      <td>109</td>\n      <td>853</td>\n    </tr>\n    <tr>\n      <th>65</th>\n      <td>180</td>\n      <td>90</td>\n      <td>800</td>\n    </tr>\n    <tr>\n      <th>66</th>\n      <td>150</td>\n      <td>105</td>\n      <td>873</td>\n    </tr>\n    <tr>\n      <th>67</th>\n      <td>150</td>\n      <td>107</td>\n      <td>816</td>\n    </tr>\n    <tr>\n      <th>72</th>\n      <td>90</td>\n      <td>100</td>\n      <td>700</td>\n    </tr>\n    <tr>\n      <th>73</th>\n      <td>150</td>\n      <td>97</td>\n      <td>953</td>\n    </tr>\n    <tr>\n      <th>75</th>\n      <td>90</td>\n      <td>98</td>\n      <td>563</td>\n    </tr>\n    <tr>\n      <th>90</th>\n      <td>180</td>\n      <td>101</td>\n      <td>600</td>\n    </tr>\n    <tr>\n      <th>99</th>\n      <td>90</td>\n      <td>93</td>\n      <td>604</td>\n    </tr>\n    <tr>\n      <th>106</th>\n      <td>180</td>\n      <td>90</td>\n      <td>800</td>\n    </tr>\n  </tbody>\n</table>\n</div>"
          },
          "metadata": {}
        }
      ]
    },
    {
      "cell_type": "code",
      "source": "#Filter the dataframe to select the rows with calories values > 500 and pulse < 100.\ndata.loc[(data['Calories']>500)&(data['Pulse']<100)]",
      "metadata": {
        "trusted": true
      },
      "execution_count": 62,
      "outputs": [
        {
          "execution_count": 62,
          "output_type": "execute_result",
          "data": {
            "text/plain": "     Duration  Pulse  Calories\n65        180     90       800\n70        150     97      1115\n73        150     97       953\n75         90     98       563\n99         90     93       604\n106       180     90       800",
            "text/html": "<div>\n<style scoped>\n    .dataframe tbody tr th:only-of-type {\n        vertical-align: middle;\n    }\n\n    .dataframe tbody tr th {\n        vertical-align: top;\n    }\n\n    .dataframe thead th {\n        text-align: right;\n    }\n</style>\n<table border=\"1\" class=\"dataframe\">\n  <thead>\n    <tr style=\"text-align: right;\">\n      <th></th>\n      <th>Duration</th>\n      <th>Pulse</th>\n      <th>Calories</th>\n    </tr>\n  </thead>\n  <tbody>\n    <tr>\n      <th>65</th>\n      <td>180</td>\n      <td>90</td>\n      <td>800</td>\n    </tr>\n    <tr>\n      <th>70</th>\n      <td>150</td>\n      <td>97</td>\n      <td>1115</td>\n    </tr>\n    <tr>\n      <th>73</th>\n      <td>150</td>\n      <td>97</td>\n      <td>953</td>\n    </tr>\n    <tr>\n      <th>75</th>\n      <td>90</td>\n      <td>98</td>\n      <td>563</td>\n    </tr>\n    <tr>\n      <th>99</th>\n      <td>90</td>\n      <td>93</td>\n      <td>604</td>\n    </tr>\n    <tr>\n      <th>106</th>\n      <td>180</td>\n      <td>90</td>\n      <td>800</td>\n    </tr>\n  </tbody>\n</table>\n</div>"
          },
          "metadata": {}
        }
      ]
    },
    {
      "cell_type": "code",
      "source": "#Create a new “df_modified” dataframe that contains all the columns from df except for “Maxpulse”\ndf_modified = data[['Duration','Pulse','Calories']]\ndf_modified.head()",
      "metadata": {
        "trusted": true
      },
      "execution_count": 10,
      "outputs": [
        {
          "execution_count": 10,
          "output_type": "execute_result",
          "data": {
            "text/plain": "   Duration  Pulse  Calories\n0        60    110     409.1\n1        60    117     479.0\n2        60    103     340.0\n3        45    109     282.4\n4        45    117     406.0",
            "text/html": "<div>\n<style scoped>\n    .dataframe tbody tr th:only-of-type {\n        vertical-align: middle;\n    }\n\n    .dataframe tbody tr th {\n        vertical-align: top;\n    }\n\n    .dataframe thead th {\n        text-align: right;\n    }\n</style>\n<table border=\"1\" class=\"dataframe\">\n  <thead>\n    <tr style=\"text-align: right;\">\n      <th></th>\n      <th>Duration</th>\n      <th>Pulse</th>\n      <th>Calories</th>\n    </tr>\n  </thead>\n  <tbody>\n    <tr>\n      <th>0</th>\n      <td>60</td>\n      <td>110</td>\n      <td>409.1</td>\n    </tr>\n    <tr>\n      <th>1</th>\n      <td>60</td>\n      <td>117</td>\n      <td>479.0</td>\n    </tr>\n    <tr>\n      <th>2</th>\n      <td>60</td>\n      <td>103</td>\n      <td>340.0</td>\n    </tr>\n    <tr>\n      <th>3</th>\n      <td>45</td>\n      <td>109</td>\n      <td>282.4</td>\n    </tr>\n    <tr>\n      <th>4</th>\n      <td>45</td>\n      <td>117</td>\n      <td>406.0</td>\n    </tr>\n  </tbody>\n</table>\n</div>"
          },
          "metadata": {}
        }
      ]
    },
    {
      "cell_type": "code",
      "source": "#Delete the “Maxpulse” column from the main df dataframe\ndel data['Maxpulse']",
      "metadata": {
        "trusted": true
      },
      "execution_count": 11,
      "outputs": []
    },
    {
      "cell_type": "code",
      "source": "data.head()",
      "metadata": {
        "trusted": true
      },
      "execution_count": 12,
      "outputs": [
        {
          "execution_count": 12,
          "output_type": "execute_result",
          "data": {
            "text/plain": "   Duration  Pulse  Calories\n0        60    110     409.1\n1        60    117     479.0\n2        60    103     340.0\n3        45    109     282.4\n4        45    117     406.0",
            "text/html": "<div>\n<style scoped>\n    .dataframe tbody tr th:only-of-type {\n        vertical-align: middle;\n    }\n\n    .dataframe tbody tr th {\n        vertical-align: top;\n    }\n\n    .dataframe thead th {\n        text-align: right;\n    }\n</style>\n<table border=\"1\" class=\"dataframe\">\n  <thead>\n    <tr style=\"text-align: right;\">\n      <th></th>\n      <th>Duration</th>\n      <th>Pulse</th>\n      <th>Calories</th>\n    </tr>\n  </thead>\n  <tbody>\n    <tr>\n      <th>0</th>\n      <td>60</td>\n      <td>110</td>\n      <td>409.1</td>\n    </tr>\n    <tr>\n      <th>1</th>\n      <td>60</td>\n      <td>117</td>\n      <td>479.0</td>\n    </tr>\n    <tr>\n      <th>2</th>\n      <td>60</td>\n      <td>103</td>\n      <td>340.0</td>\n    </tr>\n    <tr>\n      <th>3</th>\n      <td>45</td>\n      <td>109</td>\n      <td>282.4</td>\n    </tr>\n    <tr>\n      <th>4</th>\n      <td>45</td>\n      <td>117</td>\n      <td>406.0</td>\n    </tr>\n  </tbody>\n</table>\n</div>"
          },
          "metadata": {}
        }
      ]
    },
    {
      "cell_type": "code",
      "source": "data.dtypes",
      "metadata": {
        "trusted": true
      },
      "execution_count": 13,
      "outputs": [
        {
          "execution_count": 13,
          "output_type": "execute_result",
          "data": {
            "text/plain": "Duration      int64\nPulse         int64\nCalories    float64\ndtype: object"
          },
          "metadata": {}
        }
      ]
    },
    {
      "cell_type": "code",
      "source": "import numpy as np",
      "metadata": {
        "trusted": true
      },
      "execution_count": 14,
      "outputs": []
    },
    {
      "cell_type": "code",
      "source": "data['Calories'] = data['Calories'].astype(np.int64)\ndata.dtypes",
      "metadata": {
        "trusted": true
      },
      "execution_count": 15,
      "outputs": [
        {
          "execution_count": 15,
          "output_type": "execute_result",
          "data": {
            "text/plain": "Duration    int64\nPulse       int64\nCalories    int64\ndtype: object"
          },
          "metadata": {}
        }
      ]
    },
    {
      "cell_type": "code",
      "source": "from matplotlib import pyplot as plot\ndata.plot.scatter(x='Duration',y='Calories',c='DarkBlue')",
      "metadata": {
        "trusted": true
      },
      "execution_count": 17,
      "outputs": [
        {
          "execution_count": 17,
          "output_type": "execute_result",
          "data": {
            "text/plain": "<AxesSubplot:xlabel='Duration', ylabel='Calories'>"
          },
          "metadata": {}
        },
        {
          "output_type": "display_data",
          "data": {
            "text/plain": "<Figure size 640x480 with 1 Axes>",
            "image/png": "[encoded data removed]"
          },
          "metadata": {}
        }
      ]
    },
    {
      "cell_type": "code",
      "source": "#1.Titanic dataset\nimport pandas as pd\n#from matplotlib import seaborn as sns\nfrom sklearn import preprocessing\nimport matplotlib.pyplot as plt\n\ndf=pd.read_csv(\"train.csv\")\ndf.head()",
      "metadata": {
        "trusted": true
      },
      "execution_count": 25,
      "outputs": [
        {
          "execution_count": 25,
          "output_type": "execute_result",
          "data": {
            "text/plain": "   PassengerId  Survived  Pclass  \\\n0            1         0       3   \n1            2         1       1   \n2            3         1       3   \n3            4         1       1   \n4            5         0       3   \n\n                                                Name     Sex   Age  SibSp  \\\n0                            Braund, Mr. Owen Harris    male  22.0      1   \n1  Cumings, Mrs. John Bradley (Florence Briggs Th...  female  38.0      1   \n2                             Heikkinen, Miss. Laina  female  26.0      0   \n3       Futrelle, Mrs. Jacques Heath (Lily May Peel)  female  35.0      1   \n4                           Allen, Mr. William Henry    male  35.0      0   \n\n   Parch            Ticket     Fare Cabin Embarked  \n0      0         A/5 21171   7.2500   NaN        S  \n1      0          PC 17599  71.2833   C85        C  \n2      0  STON/O2. 3101282   7.9250   NaN        S  \n3      0            113803  53.1000  C123        S  \n4      0            373450   8.0500   NaN        S  ",
            "text/html": "<div>\n<style scoped>\n    .dataframe tbody tr th:only-of-type {\n        vertical-align: middle;\n    }\n\n    .dataframe tbody tr th {\n        vertical-align: top;\n    }\n\n    .dataframe thead th {\n        text-align: right;\n    }\n</style>\n<table border=\"1\" class=\"dataframe\">\n  <thead>\n    <tr style=\"text-align: right;\">\n      <th></th>\n      <th>PassengerId</th>\n      <th>Survived</th>\n      <th>Pclass</th>\n      <th>Name</th>\n      <th>Sex</th>\n      <th>Age</th>\n      <th>SibSp</th>\n      <th>Parch</th>\n      <th>Ticket</th>\n      <th>Fare</th>\n      <th>Cabin</th>\n      <th>Embarked</th>\n    </tr>\n  </thead>\n  <tbody>\n    <tr>\n      <th>0</th>\n      <td>1</td>\n      <td>0</td>\n      <td>3</td>\n      <td>Braund, Mr. Owen Harris</td>\n      <td>male</td>\n      <td>22.0</td>\n      <td>1</td>\n      <td>0</td>\n      <td>A/5 21171</td>\n      <td>7.2500</td>\n      <td>NaN</td>\n      <td>S</td>\n    </tr>\n    <tr>\n      <th>1</th>\n      <td>2</td>\n      <td>1</td>\n      <td>1</td>\n      <td>Cumings, Mrs. John Bradley (Florence Briggs Th...</td>\n      <td>female</td>\n      <td>38.0</td>\n      <td>1</td>\n      <td>0</td>\n      <td>PC 17599</td>\n      <td>71.2833</td>\n      <td>C85</td>\n      <td>C</td>\n    </tr>\n    <tr>\n      <th>2</th>\n      <td>3</td>\n      <td>1</td>\n      <td>3</td>\n      <td>Heikkinen, Miss. Laina</td>\n      <td>female</td>\n      <td>26.0</td>\n      <td>0</td>\n      <td>0</td>\n      <td>STON/O2. 3101282</td>\n      <td>7.9250</td>\n      <td>NaN</td>\n      <td>S</td>\n    </tr>\n    <tr>\n      <th>3</th>\n      <td>4</td>\n      <td>1</td>\n      <td>1</td>\n      <td>Futrelle, Mrs. Jacques Heath (Lily May Peel)</td>\n      <td>female</td>\n      <td>35.0</td>\n      <td>1</td>\n      <td>0</td>\n      <td>113803</td>\n      <td>53.1000</td>\n      <td>C123</td>\n      <td>S</td>\n    </tr>\n    <tr>\n      <th>4</th>\n      <td>5</td>\n      <td>0</td>\n      <td>3</td>\n      <td>Allen, Mr. William Henry</td>\n      <td>male</td>\n      <td>35.0</td>\n      <td>0</td>\n      <td>0</td>\n      <td>373450</td>\n      <td>8.0500</td>\n      <td>NaN</td>\n      <td>S</td>\n    </tr>\n  </tbody>\n</table>\n</div>"
          },
          "metadata": {}
        }
      ]
    },
    {
      "cell_type": "code",
      "source": "le = preprocessing.LabelEncoder()\ndf['Sex'] = le.fit_transform(df.Sex.values)\ndf['Survived'].corr(df['Sex']) #correlation is negative",
      "metadata": {
        "trusted": true
      },
      "execution_count": 26,
      "outputs": [
        {
          "execution_count": 26,
          "output_type": "execute_result",
          "data": {
            "text/plain": "-0.5433513806577526"
          },
          "metadata": {}
        }
      ]
    },
    {
      "cell_type": "code",
      "source": "# # Drop non-numeric columns from the dataframe\n# df=df.drop([\"Name\", 'Sex','Ticket','Cabin','Embarked'], axis=1)\n# #creating corelation matrix\n# matrix = df.corr()\n# print(matrix)",
      "metadata": {
        "trusted": true
      },
      "execution_count": 35,
      "outputs": []
    },
    {
      "cell_type": "code",
      "source": "# df.corr().style.background_gradient(cmap=\"Greens\")",
      "metadata": {
        "trusted": true
      },
      "execution_count": 37,
      "outputs": []
    },
    {
      "cell_type": "code",
      "source": "#Naïve Bayes method of Titanic Dataset\nimport pandas as pd\nfrom sklearn.naive_bayes import GaussianNB\nfrom sklearn.model_selection import train_test_split\nfrom sklearn.metrics import accuracy_score\nfrom sklearn.impute import SimpleImputer\n\n# Load the dataset\ndf = pd.read_csv(\"train.csv\")\n\n# Select features and target\nfeatures = ['Age', 'Embarked', 'Fare', 'Parch', 'Pclass', 'Sex', 'SibSp']\ntarget = 'Survived'\n\n# Preprocess categorical variables\ndf['Sex'] = df['Sex'].replace([\"female\", \"male\"], [0, 1])\ndf['Embarked'] = df['Embarked'].replace(['S', 'C', 'Q'], [1, 2, 3])\n\n# Split the data into training and testing sets\nX_train, X_test, y_train, y_test = train_test_split(df[features], df[target], test_size=0.2, random_state=42)\n\n# Impute missing values with the mean\nimputer = SimpleImputer(strategy='mean')\nX_train_imputed = imputer.fit_transform(X_train)\nX_test_imputed = imputer.transform(X_test)\n\n# Train the Naive Bayes model\nmodel = GaussianNB()\nmodel.fit(X_train_imputed, y_train)\n\n# Make predictions on the test set\ny_pred = model.predict(X_test_imputed)\n\n# Calculate the accuracy of the model\naccuracy = accuracy_score(y_test, y_pred)\nprint(\"Accuracy: {:.2f}%\".format(accuracy * 100))",
      "metadata": {
        "trusted": true
      },
      "execution_count": 40,
      "outputs": [
        {
          "name": "stdout",
          "text": "Accuracy: 77.65%\n",
          "output_type": "stream"
        }
      ]
    },
    {
      "cell_type": "code",
      "source": "#2.Glass Dataset\nglass=pd.read_csv(\"glass.csv\")\nglass.head()",
      "metadata": {
        "trusted": true
      },
      "execution_count": 41,
      "outputs": [
        {
          "execution_count": 41,
          "output_type": "execute_result",
          "data": {
            "text/plain": "        RI     Na    Mg    Al     Si     K    Ca   Ba   Fe  Type\n0  1.52101  13.64  4.49  1.10  71.78  0.06  8.75  0.0  0.0     1\n1  1.51761  13.89  3.60  1.36  72.73  0.48  7.83  0.0  0.0     1\n2  1.51618  13.53  3.55  1.54  72.99  0.39  7.78  0.0  0.0     1\n3  1.51766  13.21  3.69  1.29  72.61  0.57  8.22  0.0  0.0     1\n4  1.51742  13.27  3.62  1.24  73.08  0.55  8.07  0.0  0.0     1",
            "text/html": "<div>\n<style scoped>\n    .dataframe tbody tr th:only-of-type {\n        vertical-align: middle;\n    }\n\n    .dataframe tbody tr th {\n        vertical-align: top;\n    }\n\n    .dataframe thead th {\n        text-align: right;\n    }\n</style>\n<table border=\"1\" class=\"dataframe\">\n  <thead>\n    <tr style=\"text-align: right;\">\n      <th></th>\n      <th>RI</th>\n      <th>Na</th>\n      <th>Mg</th>\n      <th>Al</th>\n      <th>Si</th>\n      <th>K</th>\n      <th>Ca</th>\n      <th>Ba</th>\n      <th>Fe</th>\n      <th>Type</th>\n    </tr>\n  </thead>\n  <tbody>\n    <tr>\n      <th>0</th>\n      <td>1.52101</td>\n      <td>13.64</td>\n      <td>4.49</td>\n      <td>1.10</td>\n      <td>71.78</td>\n      <td>0.06</td>\n      <td>8.75</td>\n      <td>0.0</td>\n      <td>0.0</td>\n      <td>1</td>\n    </tr>\n    <tr>\n      <th>1</th>\n      <td>1.51761</td>\n      <td>13.89</td>\n      <td>3.60</td>\n      <td>1.36</td>\n      <td>72.73</td>\n      <td>0.48</td>\n      <td>7.83</td>\n      <td>0.0</td>\n      <td>0.0</td>\n      <td>1</td>\n    </tr>\n    <tr>\n      <th>2</th>\n      <td>1.51618</td>\n      <td>13.53</td>\n      <td>3.55</td>\n      <td>1.54</td>\n      <td>72.99</td>\n      <td>0.39</td>\n      <td>7.78</td>\n      <td>0.0</td>\n      <td>0.0</td>\n      <td>1</td>\n    </tr>\n    <tr>\n      <th>3</th>\n      <td>1.51766</td>\n      <td>13.21</td>\n      <td>3.69</td>\n      <td>1.29</td>\n      <td>72.61</td>\n      <td>0.57</td>\n      <td>8.22</td>\n      <td>0.0</td>\n      <td>0.0</td>\n      <td>1</td>\n    </tr>\n    <tr>\n      <th>4</th>\n      <td>1.51742</td>\n      <td>13.27</td>\n      <td>3.62</td>\n      <td>1.24</td>\n      <td>73.08</td>\n      <td>0.55</td>\n      <td>8.07</td>\n      <td>0.0</td>\n      <td>0.0</td>\n      <td>1</td>\n    </tr>\n  </tbody>\n</table>\n</div>"
          },
          "metadata": {}
        }
      ]
    },
    {
      "cell_type": "code",
      "source": "#visualization 1 of Glass Dataset\n# glass.corr().style.background_gradient(cmap=\"Greens\")",
      "metadata": {
        "trusted": true
      },
      "execution_count": 43,
      "outputs": []
    },
    {
      "cell_type": "code",
      "source": "# sns.heatmap(matrix, annot=True, vmax=1, vmin=-1, center=0, cmap='vlag')\n# plt.show()",
      "metadata": {
        "trusted": true
      },
      "execution_count": 45,
      "outputs": []
    },
    {
      "cell_type": "code",
      "source": "#Naïve Bayes method of Glass Dataset\nimport pandas as pd\nfrom sklearn.model_selection import train_test_split\nfrom sklearn.naive_bayes import GaussianNB\nfrom sklearn.metrics import classification_report\n\n# Load the dataset\nglass_data = pd.read_csv('glass.csv')\n\n# Separate the target variable\nX = glass_data.drop(['Type'], axis=1)\ny = glass_data['Type']\n\n# Split the data into training and testing sets\nX_train, X_test, y_train, y_test = train_test_split(X, y, test_size=0.2, random_state=42)\n\n# Train the Naive Bayes model\nmodel = GaussianNB()\nmodel.fit(X_train, y_train)\n\n# Make predictions on the testing set\ny_pred = model.predict(X_test)\n\n# Evaluate the model\nscore = model.score(X_test, y_test)\nreport = classification_report(y_test, y_pred)\n\nprint(\"Accuracy Score: {:.2f}%\".format(score * 100))\nprint(\"\\nClassification Report:\\n\", report)\n",
      "metadata": {
        "trusted": true
      },
      "execution_count": 46,
      "outputs": [
        {
          "name": "stdout",
          "text": "Accuracy Score: 55.81%\n\nClassification Report:\n               precision    recall  f1-score   support\n\n           1       0.41      0.64      0.50        11\n           2       0.43      0.21      0.29        14\n           3       0.40      0.67      0.50         3\n           5       0.50      0.25      0.33         4\n           6       1.00      1.00      1.00         3\n           7       0.89      1.00      0.94         8\n\n    accuracy                           0.56        43\n   macro avg       0.60      0.63      0.59        43\nweighted avg       0.55      0.56      0.53        43\n\n",
          "output_type": "stream"
        }
      ]
    },
    {
      "cell_type": "code",
      "source": "#Linear SVM method of Glass Dataset\nimport warnings\nimport pandas as pd\nfrom sklearn.model_selection import train_test_split\nfrom sklearn.svm import LinearSVC\nfrom sklearn.metrics import classification_report\n#To avoid warnings\nwarnings.filterwarnings(\"ignore\")\n\n# Load the dataset\nglass_data = pd.read_csv('glass.csv')\n\n# Separate the target variable\nX = glass_data.drop(['Type'], axis=1)\ny = glass_data['Type']\n\n# Split the data into training and testing sets\nX_train, X_test, y_train, y_test = train_test_split(X, y, test_size=0.2, random_state=42)\n\n# Train the Linear SVM model\nmodel = LinearSVC(random_state=42)\nmodel.fit(X_train, y_train)\n\n# Make predictions on the testing set\ny_pred = model.predict(X_test)\n\n# Evaluate the model\nscore = model.score(X_test, y_test)\nreport = classification_report(y_test, y_pred)\n\nprint(\"Accuracy Score: {:.2f}%\".format(score * 100))\nprint(\"\\nClassification Report:\\n\", report)\n",
      "metadata": {
        "trusted": true
      },
      "execution_count": 47,
      "outputs": [
        {
          "name": "stdout",
          "text": "Accuracy Score: 51.16%\n\nClassification Report:\n               precision    recall  f1-score   support\n\n           1       0.37      1.00      0.54        11\n           2       0.00      0.00      0.00        14\n           3       0.00      0.00      0.00         3\n           5       1.00      0.75      0.86         4\n           6       0.00      0.00      0.00         3\n           7       0.80      1.00      0.89         8\n\n    accuracy                           0.51        43\n   macro avg       0.36      0.46      0.38        43\nweighted avg       0.34      0.51      0.38        43\n\n",
          "output_type": "stream"
        }
      ]
    },
    {
      "cell_type": "code",
      "source": "",
      "metadata": {},
      "execution_count": null,
      "outputs": []
    }
  ]
}