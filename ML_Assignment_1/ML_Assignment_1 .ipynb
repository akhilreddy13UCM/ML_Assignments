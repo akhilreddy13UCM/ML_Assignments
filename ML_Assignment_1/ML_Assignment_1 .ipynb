{
  "cells": [
    {
      "cell_type": "code",
      "execution_count": 2,
      "metadata": {
        "trusted": true
      },
      "outputs": [
        {
          "name": "stdout",
          "output_type": "stream",
          "text": [
            "minimum age: 19\n",
            "maximum age: 26\n",
            "median of ages is 24.0\n",
            "average of ages is 22.75\n",
            "range of ages is 7\n"
          ]
        }
      ],
      "source": [
        "ages = [19, 22, 19, 24, 20, 25, 26, 24, 25, 24]\n",
        "#Sort the list and find the min and max age\n",
        "ages.sort()\n",
        "maxAge=ages[-1]\n",
        "minAge=ages[0]\n",
        "print(\"minimum age:\",minAge)\n",
        "print(\"maximum age:\",maxAge)\n",
        "#Add the min age and the max age again to the list\n",
        "ages.append(maxAge)    #use append method to add\n",
        "ages.append(minAge)\n",
        "#Find the median age (one middle item or two middle items divided by two)\n",
        "ages.sort()\n",
        "length=len(ages)\n",
        "if length%2==0:\n",
        "    median=(ages[length//2]+ages[(length//2)-1])/2\n",
        "else:\n",
        "    median=ages[length//2]\n",
        "print(\"median of ages is\",median)\n",
        "#Find the average age (sum of all items divided by their number)\n",
        "average=sum(ages)/len(ages)\n",
        "print(\"average of ages is\",average)\n",
        "#Find the range of the ages (max minus min)\n",
        "range=max(ages)-min(ages)\n",
        "print(\"range of ages is\",range)\n"
      ]
    },
    {
      "cell_type": "code",
      "execution_count": 3,
      "metadata": {
        "trusted": true
      },
      "outputs": [
        {
          "name": "stdout",
          "output_type": "stream",
          "text": [
            "Dog dictionary is {'name': 'Denzo', 'color': 'White', 'breed': 'Labrador', 'legs': 4, 'age': 7}\n",
            "Student dictionary is {'first_name': 'Akhilesh Reddy', 'last_name': 'Erravally', 'gender': 'Male', 'age': 22, 'marital status': 'Single', 'skills': ['Python'], 'country': 'India', 'city': 'Hyderabad', 'address': 'Badangpet'}\n",
            "Length of the student dictionary is 9\n",
            "<class 'list'>\n",
            "Dictionary keys are: dict_keys(['first_name', 'last_name', 'gender', 'age', 'marital status', 'skills', 'country', 'city', 'address'])\n",
            "Dictionary values are: dict_values(['Akhilesh Reddy', 'Erravally', 'Male', 22, 'Single', ['Python', 'Machine learning'], 'India', 'Hyderabad', 'Badangpet'])\n"
          ]
        }
      ],
      "source": [
        "#Create an empty dictionary called dog\n",
        "dog={}\n",
        "#Add name, color, breed, legs, age to the dog dictionary\n",
        "dog.update({\"name\":\"Denzo\",\"color\":\"White\",\"breed\":\"Labrador\",\"legs\":4,\"age\":7})\n",
        "print(\"Dog dictionary is\",dog)\n",
        "#Create a student dictionary and add first_name, last_name, gender, age, marital status,\n",
        "#skills, country, city and address as keys for the dictionary\n",
        "student_dict={\"first_name\":\"Akhilesh Reddy\",\"last_name\":\"Erravally\",\"gender\":\"Male\",\"age\":22,\"marital status\":\"Single\",\n",
        "              \"skills\":[\"Python\"],\"country\":\"India\",\"city\":\"Hyderabad\",\"address\":\"Badangpet\"}\n",
        "print(\"Student dictionary is\",student_dict)\n",
        "#Get the length of the student dictionary\n",
        "print(\"Length of the student dictionary is\",len(student_dict))\n",
        "#Get the value of skills and check the data type, it should be a list\n",
        "print(type(student_dict[\"skills\"]))\n",
        "#Modify the skills values by adding one or two skills\n",
        "student_dict[\"skills\"].append(\"Machine learning\")\n",
        "#Get the dictionary keys as a list\n",
        "print(\"Dictionary keys are:\",student_dict.keys())\n",
        "#Get the dictionary values as a list\n",
        "print(\"Dictionary values are:\",student_dict.values())"
      ]
    },
    {
      "cell_type": "code",
      "execution_count": 4,
      "metadata": {
        "trusted": true
      },
      "outputs": [
        {
          "name": "stdout",
          "output_type": "stream",
          "text": [
            "length: 6\n",
            "siblings: ('vicky', 'teja', 'chintu', 'chinky', 'aruna', 'nagu')\n",
            "family_members: ('vicky', 'teja', 'chintu', 'chinky', 'aruna', 'nagu', 'Krishna reddy', 'Vijaya Laxmi')\n"
          ]
        }
      ],
      "source": [
        "#Create a tuple containing names of your sisters and your brothers \n",
        "brothers=(\"vicky\",\"teja\",\"chintu\")\n",
        "sisters=(\"chinky\",\"aruna\",\"nagu\")\n",
        "#Join brothers and sisters tuples and assign it to siblings\n",
        "siblings=brothers+sisters\n",
        "#How many siblings do you have?\n",
        "print(\"length:\",len(siblings))\n",
        "print(\"siblings:\",siblings)\n",
        "#Modify the siblings tuple and add the name of your father and mother and assign it to family_members\n",
        "family_members=siblings+(\"Krishna reddy\",\"Vijaya Laxmi\")\n",
        "print(\"family_members:\",family_members)"
      ]
    },
    {
      "cell_type": "code",
      "execution_count": 8,
      "metadata": {
        "trusted": true
      },
      "outputs": [
        {
          "name": "stdout",
          "output_type": "stream",
          "text": [
            "number of companies: 7\n",
            "{'Twitter', 'Facebook', 'Oracle', 'Amazon', 'IBM', 'Apple', 'Microsoft', 'Google'}\n",
            "{'Twitter', 'Facebook', 'Oracle', 'Cognizant', 'IBM', 'Apple', 'Google', 'Netflix', 'Microsoft', 'Amazon'}\n",
            "{'Twitter', 'Facebook', 'Oracle', 'IBM', 'Apple', 'Google', 'Netflix', 'Microsoft', 'Amazon'}\n",
            "{'Twitter', 'Facebook', 'Oracle', 'IBM', 'Apple', 'Google', 'Netflix', 'Microsoft', 'Amazon'}\n",
            "Join of A and B {19, 20, 22, 24, 25, 26, 27, 28}\n",
            "Intersection of A and B is {19, 20, 22, 24, 25, 26}\n",
            "Is A subset of B True\n",
            "Are A and B disjoint sets False\n",
            "symmetric difference between A and B {27, 28}\n",
            "length of list of ages 8\n",
            "length of set of ages 5\n"
          ]
        }
      ],
      "source": [
        "it_companies = {'Facebook', 'Google', 'Microsoft', 'Apple', 'IBM', 'Oracle', 'Amazon'}\n",
        "age = [22, 19, 24, 25, 26, 24, 25, 24]\n",
        "#Find the length of the set it_companies\n",
        "print(\"number of companies:\",len(it_companies))\n",
        "#Add 'Twitter' to it_companies\n",
        "it_companies.add('Twitter')\n",
        "print(it_companies)\n",
        "#Insert multiple IT companies at once to the set it_companies\n",
        "it_companies.update({'Netflix','Cognizant'})\n",
        "print(it_companies)\n",
        "#Remove one of the companies from the set it_companies\n",
        "it_companies.remove('Cognizant')\n",
        "print(it_companies)\n",
        "#What is the difference between remove and discard\n",
        "it_companies.discard('Cognizant')\n",
        "print(it_companies)\n",
        "#The discard() method removes the specified item from the set. This method is different from the remove() method,\n",
        "#because the remove() method will raise an error if the specified item does not exist, and the discard() method will not.\n",
        "A = {19, 22, 24, 20, 25, 26}\n",
        "B = {19, 22, 20, 25, 26, 24, 28, 27}\n",
        "#Join A and B\n",
        "print(\"Join of A and B\",A.union(B))\n",
        "#Find A intersection B\n",
        "print(\"Intersection of A and B is\",A.intersection(B))\n",
        "#Is A subset of B\n",
        "print(\"Is A subset of B\",A.issubset(B))\n",
        "#Are A and B disjoint sets\n",
        "print(\"Are A and B disjoint sets\",A.isdisjoint(B))\n",
        "#Join A with B and B with A\n",
        "A.union(B)\n",
        "B.union(A)\n",
        "#What is the symmetric difference between A and B\n",
        "print(\"symmetric difference between A and B\",A.symmetric_difference(B))\n",
        "#Delete the sets completely\n",
        "A.clear()\n",
        "B.clear()\n",
        "#Convert the ages to a set and compare the length of the list and the set\n",
        "age = [22, 19, 24, 25, 26, 24, 25, 24]\n",
        "set_of_age=set(age)\n",
        "print(\"length of list of ages\",len(age))\n",
        "print(\"length of set of ages\",len(set_of_age))"
      ]
    },
    {
      "cell_type": "code",
      "execution_count": 18,
      "metadata": {
        "trusted": true
      },
      "outputs": [
        {
          "name": "stdout",
          "output_type": "stream",
          "text": [
            "number of unique words are 10\n"
          ]
        }
      ],
      "source": [
        "#“I am a teacher and I love to inspire and teach people”\n",
        "#How many unique words have been used in the sentence? Use the split methods and set\n",
        "#to get the unique words.\n",
        "string=\"I am a teacher and I love to inspire and teach people\"\n",
        "list_of_str=string.split() #using split method to divide string by spaces\n",
        "set_of_list=set(list_of_str)   #converting to set\n",
        "print(\"number of unique words are\",len(set_of_list))"
      ]
    },
    {
      "cell_type": "code",
      "execution_count": 19,
      "metadata": {
        "trusted": true
      },
      "outputs": [
        {
          "name": "stdout",
          "output_type": "stream",
          "text": [
            "Name\t Age\tCountry\tCity\n",
            "Asabeneh 250\tFinland\tHelsinki\n"
          ]
        }
      ],
      "source": [
        "#Use a tab escape sequence to get the following lines.\n",
        "s=\"Name\\t Age\\tCountry\\tCity\\nAsabeneh 250\\tFinland\\tHelsinki\"\n",
        "print(s)"
      ]
    },
    {
      "cell_type": "code",
      "execution_count": 14,
      "metadata": {
        "trusted": true
      },
      "outputs": [
        {
          "name": "stdout",
          "output_type": "stream",
          "text": [
            "The area of a circle with radius 10 is 314 meters square.\n"
          ]
        }
      ],
      "source": [
        "#Use the string formatting method to display the following:\n",
        "radius = 10\n",
        "area = 3.14 * radius ** 2\n",
        "print(\"The area of a circle with radius %d is %d meters square.\"%(radius,area))"
      ]
    },
    {
      "cell_type": "code",
      "execution_count": null,
      "metadata": {
        "trusted": true
      },
      "outputs": [],
      "source": []
    },
    {
      "cell_type": "code",
      "execution_count": null,
      "metadata": {},
      "outputs": [],
      "source": []
    }
  ],
  "metadata": {
    "kernelspec": {
      "display_name": "Python (Pyodide)",
      "language": "python",
      "name": "python"
    },
    "language_info": {
      "codemirror_mode": {
        "name": "python",
        "version": 3
      },
      "file_extension": ".py",
      "mimetype": "text/x-python",
      "name": "python",
      "nbconvert_exporter": "python",
      "pygments_lexer": "ipython3",
      "version": "3.8"
    }
  },
  "nbformat": 4,
  "nbformat_minor": 4
}
