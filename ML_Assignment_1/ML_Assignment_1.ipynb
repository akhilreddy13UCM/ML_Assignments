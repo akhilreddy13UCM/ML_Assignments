{
  "metadata": {
    "language_info": {
      "codemirror_mode": {
        "name": "python",
        "version": 3
      },
      "file_extension": ".py",
      "mimetype": "text/x-python",
      "name": "python",
      "nbconvert_exporter": "python",
      "pygments_lexer": "ipython3",
      "version": "3.8"
    },
    "kernelspec": {
      "name": "python",
      "display_name": "Python (Pyodide)",
      "language": "python"
    }
  },
  "nbformat_minor": 4,
  "nbformat": 4,
  "cells": [
    {
      "cell_type": "code",
      "source": "ages = [19, 22, 19, 24, 20, 25, 26, 24, 25, 24]\n#Sort the list and find the min and max age\nages.sort()\nmaxAge=ages[-1]\nminAge=ages[0]\nprint(\"minimum age:\",minAge)\nprint(\"maximum age:\",maxAge)\n#Add the min age and the max age again to the list\nages.append(maxAge)\nages.append(minAge)\n#Find the median age (one middle item or two middle items divided by two)\nages.sort()\nlength=len(ages)\nif length%2==0:\n    median=(ages[length//2]+ages[(length//2)-1])/2\nelse:\n    median=ages[length//2]\nprint(\"median of ages is\",median)\n#Find the average age (sum of all items divided by their number)\naverage=sum(ages)/len(ages)\nprint(\"average of ages is\",average)\n#Find the range of the ages (max minus min)\nrange=max(ages)-min(ages)\nprint(\"range of ages is\",range)\n",
      "metadata": {
        "trusted": true
      },
      "execution_count": 2,
      "outputs": [
        {
          "name": "stdout",
          "text": "minimum age: 19\nmaximum age: 26\nmedian of ages is 24.0\naverage of ages is 22.75\nrange of ages is 7\n",
          "output_type": "stream"
        }
      ]
    },
    {
      "cell_type": "code",
      "source": "#Create an empty dictionary called dog\ndog={}\n#Add name, color, breed, legs, age to the dog dictionary\ndog.update({\"name\":\"Denzo\",\"color\":\"White\",\"breed\":\"Labrador\",\"legs\":4,\"age\":7})\nprint(\"Dog dictionary is\",dog)\n#Create a student dictionary and add first_name, last_name, gender, age, marital status,\n#skills, country, city and address as keys for the dictionary\nstudent_dict={\"first_name\":\"Akhilesh Reddy\",\"last_name\":\"Erravally\",\"gender\":\"Male\",\"age\":22,\"marital status\":\"Single\",\n              \"skills\":[\"Python\"],\"country\":\"India\",\"city\":\"Hyderabad\",\"address\":\"Badangpet\"}\nprint(\"Student dictionary is\",student_dict)\n#Get the length of the student dictionary\nprint(\"Length of the student dictionary is\",len(student_dict))\n#Get the value of skills and check the data type, it should be a list\nprint(type(student_dict[\"skills\"]))\n#Modify the skills values by adding one or two skills\nstudent_dict[\"skills\"].append(\"Machine learning\")\n#Get the dictionary keys as a list\nprint(\"Dictionary keys are:\",student_dict.keys())\n#Get the dictionary values as a list\nprint(\"Dictionary values are:\",student_dict.values())",
      "metadata": {
        "trusted": true
      },
      "execution_count": 3,
      "outputs": [
        {
          "name": "stdout",
          "text": "Dog dictionary is {'name': 'Denzo', 'color': 'White', 'breed': 'Labrador', 'legs': 4, 'age': 7}\nStudent dictionary is {'first_name': 'Akhilesh Reddy', 'last_name': 'Erravally', 'gender': 'Male', 'age': 22, 'marital status': 'Single', 'skills': ['Python'], 'country': 'India', 'city': 'Hyderabad', 'address': 'Badangpet'}\nLength of the student dictionary is 9\n<class 'list'>\nDictionary keys are: dict_keys(['first_name', 'last_name', 'gender', 'age', 'marital status', 'skills', 'country', 'city', 'address'])\nDictionary values are: dict_values(['Akhilesh Reddy', 'Erravally', 'Male', 22, 'Single', ['Python', 'Machine learning'], 'India', 'Hyderabad', 'Badangpet'])\n",
          "output_type": "stream"
        }
      ]
    },
    {
      "cell_type": "code",
      "source": "#Create a tuple containing names of your sisters and your brothers \nbrothers=(\"vicky\",\"teja\",\"chintu\")\nsisters=(\"chinky\",\"aruna\",\"nagu\")\n#Join brothers and sisters tuples and assign it to siblings\nsiblings=brothers+sisters\n#How many siblings do you have?\nprint(\"length:\",len(siblings))\nprint(\"siblings:\",siblings)\n#Modify the siblings tuple and add the name of your father and mother and assign it to family_members\nfamily_members=siblings+(\"Krishna reddy\",\"Vijaya Laxmi\")\nprint(\"family_members:\",family_members)",
      "metadata": {
        "trusted": true
      },
      "execution_count": 4,
      "outputs": [
        {
          "name": "stdout",
          "text": "length: 6\nsiblings: ('vicky', 'teja', 'chintu', 'chinky', 'aruna', 'nagu')\nfamily_members: ('vicky', 'teja', 'chintu', 'chinky', 'aruna', 'nagu', 'Krishna reddy', 'Vijaya Laxmi')\n",
          "output_type": "stream"
        }
      ]
    },
    {
      "cell_type": "code",
      "source": "it_companies = {'Facebook', 'Google', 'Microsoft', 'Apple', 'IBM', 'Oracle', 'Amazon'}\nage = [22, 19, 24, 25, 26, 24, 25, 24]\n#Find the length of the set it_companies\nprint(\"number of companies:\",len(it_companies))\n#Add 'Twitter' to it_companies\nit_companies.add('Twitter')\nprint(it_companies)\n#Insert multiple IT companies at once to the set it_companies\nit_companies.update({'Netflix','Cognizant'})\nprint(it_companies)\n#Remove one of the companies from the set it_companies\nit_companies.remove('Cognizant')\nprint(it_companies)\n#What is the difference between remove and discard\nit_companies.discard('Cognizant')\nprint(it_companies)\n#The discard() method removes the specified item from the set. This method is different from the remove() method,\n#because the remove() method will raise an error if the specified item does not exist, and the discard() method will not.\nA = {19, 22, 24, 20, 25, 26}\nB = {19, 22, 20, 25, 26, 24, 28, 27}\n#Join A and B\nprint(\"Join of A and B\",A.union(B))\n#Find A intersection B\nprint(\"Intersection of A and B is\",A.intersection(B))\n#Is A subset of B\nprint(\"Is A subset of B\",A.issubset(B))\n#Are A and B disjoint sets\nprint(\"Are A and B disjoint sets\",A.isdisjoint(B))\n#Join A with B and B with A\nA.union(B)\nB.union(A)\n#What is the symmetric difference between A and B\nprint(\"symmetric difference between A and B\",A.symmetric_difference(B))\n#Delete the sets completely\nA.clear()\nB.clear()\n#Convert the ages to a set and compare the length of the list and the set\nage = [22, 19, 24, 25, 26, 24, 25, 24]\nset_of_age=set(age)\nprint(\"length of list of ages\",len(age))\nprint(\"length of set of ages\",len(set_of_age))",
      "metadata": {
        "trusted": true
      },
      "execution_count": 8,
      "outputs": [
        {
          "name": "stdout",
          "text": "number of companies: 7\n{'Twitter', 'Facebook', 'Oracle', 'Amazon', 'IBM', 'Apple', 'Microsoft', 'Google'}\n{'Twitter', 'Facebook', 'Oracle', 'Cognizant', 'IBM', 'Apple', 'Google', 'Netflix', 'Microsoft', 'Amazon'}\n{'Twitter', 'Facebook', 'Oracle', 'IBM', 'Apple', 'Google', 'Netflix', 'Microsoft', 'Amazon'}\n{'Twitter', 'Facebook', 'Oracle', 'IBM', 'Apple', 'Google', 'Netflix', 'Microsoft', 'Amazon'}\nJoin of A and B {19, 20, 22, 24, 25, 26, 27, 28}\nIntersection of A and B is {19, 20, 22, 24, 25, 26}\nIs A subset of B True\nAre A and B disjoint sets False\nsymmetric difference between A and B {27, 28}\nlength of list of ages 8\nlength of set of ages 5\n",
          "output_type": "stream"
        }
      ]
    },
    {
      "cell_type": "code",
      "source": "#“I am a teacher and I love to inspire and teach people”\n#How many unique words have been used in the sentence? Use the split methods and set\n#to get the unique words.\nstring=\"I am a teacher and I love to inspire and teach people\"\nlist_of_str=string.split()\nset_of_list=set(list_of_str)\nprint(\"number of unique words are\",len(set_of_list))",
      "metadata": {
        "trusted": true
      },
      "execution_count": 9,
      "outputs": [
        {
          "name": "stdout",
          "text": "number of unique words are 10\n",
          "output_type": "stream"
        }
      ]
    },
    {
      "cell_type": "code",
      "source": "#Use a tab escape sequence to get the following lines.\ns=\"Name\\t Age\\tCountry\\tCity\\nAsabeneh\\t250\\tFinland\\tHelsinki\"\nprint(s)",
      "metadata": {
        "trusted": true
      },
      "execution_count": 10,
      "outputs": [
        {
          "name": "stdout",
          "text": "Name\t Age\tCountry\tCity\nAsabeneh\t250\tFinland\tHelsinki\n",
          "output_type": "stream"
        }
      ]
    },
    {
      "cell_type": "code",
      "source": "#Use the string formatting method to display the following:\nradius = 10\narea = 3.14 * radius ** 2\nprint(\"The area of a circle with radius %d is %d meters square.\"%(radius,area))",
      "metadata": {
        "trusted": true
      },
      "execution_count": 14,
      "outputs": [
        {
          "name": "stdout",
          "text": "The area of a circle with radius 10 is 314 meters square.\n",
          "output_type": "stream"
        }
      ]
    },
    {
      "cell_type": "code",
      "source": "",
      "metadata": {},
      "execution_count": null,
      "outputs": []
    }
  ]
}